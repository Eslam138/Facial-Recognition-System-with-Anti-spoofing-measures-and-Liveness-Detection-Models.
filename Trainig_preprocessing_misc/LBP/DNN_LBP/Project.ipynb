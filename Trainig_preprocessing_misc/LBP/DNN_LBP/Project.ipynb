{
  "cells": [
    {
      "cell_type": "code",
      "execution_count": null,
      "metadata": {
        "id": "kFDeufCCACQ_"
      },
      "outputs": [],
      "source": [
        "import cv2.cv2 as cv2\n",
        "from matplotlib import pyplot as plt\n",
        "import numpy as np\n",
        "import keras\n",
        "from keras.models import Sequential\n",
        "from keras.layers import Dense, Activation, Dropout, Flatten, Conv2D, MaxPooling2D\n",
        "import tensorflow"
      ]
    },
    {
      "cell_type": "code",
      "execution_count": null,
      "metadata": {
        "id": "bjroAF5fAU_v"
      },
      "outputs": [],
      "source": [
        "def get_pixel(img, center, x, y):\n",
        "    new_value = 0\n",
        "    try:\n",
        "        # If local neighbourhood pixel\n",
        "        # value is greater than or equal\n",
        "        # to center pixel values then\n",
        "        # set it to 1\n",
        "        if img[x][y] >= center:\n",
        "            new_value = 1\n",
        "        #else:\n",
        "         #   new_value =0\n",
        "    except:\n",
        "        # Exception is required when\n",
        "        # neighbourhood value of a center\n",
        "        # pixel value is null i.e. values\n",
        "        # present at boundaries.\n",
        "        #new_value = 0\n",
        "        pass\n",
        "\n",
        "    return new_value\n",
        "\n",
        "\n",
        "# Function for calculating LBP\n",
        "Re=1\n",
        "def lbp_calculated_pixel(img, x, y):\n",
        "    center = img[x][y]\n",
        "\n",
        "    val_ar = []\n",
        "    # Now, we need to convert binary\n",
        "    # values to decimal\n",
        "    # top_left\n",
        "    val_ar.append ( get_pixel ( img, center, x - Re, y - Re ) )\n",
        "    # top\n",
        "    val_ar.append ( get_pixel ( img, center, x - Re, y ) )\n",
        "    # top_right\n",
        "    val_ar.append ( get_pixel ( img, center, x - Re, y + Re ) )\n",
        "\n",
        "    # right\n",
        "    val_ar.append ( get_pixel ( img, center, x, y + Re ) )\n",
        "    # bottom_right\n",
        "    val_ar.append ( get_pixel ( img, center, x + Re, y + Re ) )\n",
        "\n",
        "    # bottom\n",
        "    val_ar.append ( get_pixel ( img, center, x + Re, y ) )\n",
        "\n",
        "    # bottom_left\n",
        "    val_ar.append ( get_pixel ( img, center, x + Re, y - Re ) )\n",
        "    # left\n",
        "    val_ar.append ( get_pixel ( img, center, x, y - Re ) )\n",
        "\n",
        "\n",
        "    #power_val = [1, 2, 4, 8, 16, 32, 64, 128]\n",
        "    #power_val = [128, 64, 32, 16, 8, 4, 2, 1]\n",
        "    val = 0\n",
        "    count=0\n",
        "    for i in range ( len ( val_ar ) ):\n",
        "        val += val_ar[i] *(2**count) #power_val[i]\n",
        "      #  print(2 ** count)\n",
        "        count+=1\n",
        "    #print(val)\n",
        "    return val\n",
        "def LBP(im) :\n",
        "    height, width= im.shape\n",
        "    img_lbp = np.zeros ( (height, width), np.uint8 )\n",
        "    for i in range ( 0, height ):\n",
        "        for j in range ( 0, width ):\n",
        "            img_lbp[i, j] = lbp_calculated_pixel ( im, i, j )\n",
        "           # print(img_lbp[i, j])\n",
        "   # plt.imshow ( img_lbp, cmap=\"gray\" )\n",
        "   # plt.show ()\n",
        "   # print (img_lbp[0])\n",
        "    return img_lbp\n",
        "   # print ( \"LBP Program is finished\" )"
      ]
    },
    {
      "cell_type": "code",
      "execution_count": null,
      "metadata": {
        "colab": {
          "background_save": true
        },
        "id": "WQLwlO-TAf7G"
      },
      "outputs": [],
      "source": [
        "images = []\n",
        "y = []\n",
        "for j in range(7250,7500):\n",
        "    # real\n",
        "    image = cv2.imread(f'/content/drive/MyDrive/Data/real2/{j}.jpg')\n",
        "    image_HSV = cv2.cvtColor(image, cv2.COLOR_BGR2HSV)\n",
        "    image_YCrCb = cv2.cvtColor(image, cv2.COLOR_BGR2YCrCb)\n",
        "    S = LBP(image_HSV[:, :, 1])\n",
        "    V = LBP(image_HSV[:, :, 2])\n",
        "    Cb = LBP(image_YCrCb[:, :, 2])\n",
        "    S = plt.hist(S.ravel(), 255, [0, 255])[0]\n",
        "    V = plt.hist(V.ravel(), 255, [0, 255])[0]\n",
        "    Cb = plt.hist(Cb.ravel(), 255, [0, 255])[0]\n",
        "    S_V = np.concatenate([S, V], axis=0)\n",
        "    S_V_Cb = np.concatenate([S_V, Cb], axis=0)\n",
        "    S_V_Cb = S_V_Cb.reshape(1, -1)\n",
        "    images.append(S_V_Cb)\n",
        "    y.append(1)\n",
        "\n",
        "    image = cv2.imread(f'/content/drive/MyDrive/Data/phone2/{j}.jpg')\n",
        "    image_HSV = cv2.cvtColor(image, cv2.COLOR_BGR2HSV)\n",
        "    image_YCrCb = cv2.cvtColor(image, cv2.COLOR_BGR2YCrCb)\n",
        "    S = LBP(image_HSV[:, :, 1])\n",
        "    V = LBP(image_HSV[:, :, 2])\n",
        "    Cb = LBP(image_YCrCb[:, :, 2])\n",
        "    S = plt.hist(S.ravel(), 255, [0, 255])[0]\n",
        "    V = plt.hist(V.ravel(), 255, [0, 255])[0]\n",
        "    Cb = plt.hist(Cb.ravel(), 255, [0, 255])[0]\n",
        "    S_V = np.concatenate([S, V], axis=0)\n",
        "    S_V_Cb = np.concatenate([S_V, Cb], axis=0)\n",
        "    S_V_Cb = S_V_Cb.reshape(1, -1)\n",
        "    images.append(S_V_Cb)\n",
        "    y.append(0)\n",
        "    print(j)\n"
      ]
    },
    {
      "cell_type": "code",
      "execution_count": null,
      "metadata": {
        "id": "BVEFZSSNa9_R"
      },
      "outputs": [],
      "source": [
        "images = np.array(images)\n",
        "images = images.reshape(images.shape[0],765)\n",
        "y = np.array(y).reshape(-1,1)\n",
        "data = np.concatenate([images,y],axis=1)"
      ]
    },
    {
      "cell_type": "code",
      "source": [
        "data = pd.DataFrame(data)"
      ],
      "metadata": {
        "id": "Ugc9goY4KOue"
      },
      "execution_count": null,
      "outputs": []
    },
    {
      "cell_type": "code",
      "source": [
        "print(data)"
      ],
      "metadata": {
        "colab": {
          "base_uri": "https://localhost:8080/"
        },
        "id": "egfMHL_qousn",
        "outputId": "051b6c94-b3c6-4cfe-a641-69b79ce5201b"
      },
      "execution_count": null,
      "outputs": [
        {
          "output_type": "stream",
          "name": "stdout",
          "text": [
            "        0     1      2      3     4     5      6      7      8     9    ...  \\\n",
            "0     496.0  51.0  153.0  191.0  94.0  13.0  212.0  787.0  351.0  21.0  ...   \n",
            "1     507.0  58.0  167.0  175.0  85.0  11.0  192.0  755.0  314.0  20.0  ...   \n",
            "2     532.0  55.0  160.0  190.0  95.0  12.0  223.0  769.0  341.0  23.0  ...   \n",
            "3     529.0  51.0  183.0  206.0  96.0  11.0  197.0  779.0  314.0  23.0  ...   \n",
            "4     484.0  61.0  172.0  171.0  95.0  13.0  202.0  720.0  339.0  20.0  ...   \n",
            "...     ...   ...    ...    ...   ...   ...    ...    ...    ...   ...  ...   \n",
            "5945  835.0  74.0  351.0  211.0  78.0  14.0  191.0  499.0  539.0  29.0  ...   \n",
            "5946  800.0  93.0  395.0  208.0  75.0  16.0  177.0  455.0  503.0  32.0  ...   \n",
            "5947  795.0  75.0  338.0  220.0  65.0  22.0  178.0  580.0  505.0  30.0  ...   \n",
            "5948  796.0  80.0  391.0  220.0  87.0  13.0  177.0  555.0  493.0  31.0  ...   \n",
            "5949  820.0  75.0  352.0  184.0  71.0  21.0  208.0  471.0  515.0  24.0  ...   \n",
            "\n",
            "      756    757     758    759    760    761     762    763      764  765  \n",
            "0     3.0  161.0  3599.0  924.0  106.0  875.0  1125.0  373.0  12290.0  0.0  \n",
            "1     5.0  128.0  3439.0  907.0  106.0  899.0  1138.0  379.0  12744.0  0.0  \n",
            "2     3.0  156.0  3390.0  870.0  119.0  882.0  1088.0  413.0  12413.0  0.0  \n",
            "3     2.0  136.0  3560.0  856.0   75.0  919.0  1054.0  350.0  12555.0  0.0  \n",
            "4     4.0  153.0  3343.0  941.0   91.0  914.0  1070.0  354.0  12573.0  0.0  \n",
            "...   ...    ...     ...    ...    ...    ...     ...    ...      ...  ...  \n",
            "5945  0.0   56.0  3336.0  522.0  115.0  675.0   722.0  343.0  27109.0  1.0  \n",
            "5946  0.0   44.0  3070.0  585.0  103.0  697.0   735.0  316.0  27456.0  1.0  \n",
            "5947  0.0   56.0  3135.0  539.0  123.0  656.0   733.0  393.0  27395.0  1.0  \n",
            "5948  0.0   49.0  3107.0  525.0  126.0  626.0   735.0  391.0  27313.0  1.0  \n",
            "5949  0.0   46.0  3246.0  568.0  128.0  699.0   713.0  414.0  27411.0  1.0  \n",
            "\n",
            "[5950 rows x 766 columns]\n"
          ]
        }
      ]
    },
    {
      "cell_type": "code",
      "source": [
        "data = np.array(data)\n",
        "np.random.shuffle(data)\n",
        "data = pd.DataFrame(data)\n",
        "print(data)"
      ],
      "metadata": {
        "colab": {
          "base_uri": "https://localhost:8080/"
        },
        "id": "oW_b1m9APUy_",
        "outputId": "6c3c64a4-2ac2-408d-87d2-e788e9faf81f"
      },
      "execution_count": null,
      "outputs": [
        {
          "output_type": "stream",
          "name": "stdout",
          "text": [
            "         0      1      2      3      4     5      6      7      8     9    \\\n",
            "0      890.0   63.0  388.0  235.0  101.0  18.0  244.0  359.0  582.0  41.0   \n",
            "1     1311.0  122.0  444.0  285.0  129.0  35.0  298.0  519.0  727.0  55.0   \n",
            "2      439.0   58.0  290.0  149.0   66.0   9.0  178.0  391.0  333.0  22.0   \n",
            "3     1409.0  124.0  327.0  299.0  143.0  27.0  262.0  491.0  791.0  63.0   \n",
            "4      914.0   89.0  256.0  237.0  127.0  18.0  235.0  792.0  565.0  37.0   \n",
            "...      ...    ...    ...    ...    ...   ...    ...    ...    ...   ...   \n",
            "5945   782.0  109.0  316.0  263.0  105.0  23.0  315.0  616.0  503.0  49.0   \n",
            "5946   958.0   97.0  259.0  259.0  110.0  20.0  207.0  669.0  560.0  36.0   \n",
            "5947   429.0   41.0  267.0  183.0   36.0   9.0  165.0  478.0  310.0  12.0   \n",
            "5948   802.0   87.0  246.0  241.0   82.0  16.0  212.0  730.0  500.0  44.0   \n",
            "5949   854.0   84.0  253.0  213.0   97.0  15.0  219.0  560.0  398.0  31.0   \n",
            "\n",
            "      ...  756    757     758    759   760    761    762    763      764  765  \n",
            "0     ...  0.0   39.0  2343.0  430.0  79.0  663.0  668.0  260.0  31138.0  1.0  \n",
            "1     ...  0.0   57.0  2350.0  632.0  89.0  775.0  614.0  299.0  27170.0  1.0  \n",
            "2     ...  0.0   60.0  2783.0  513.0  67.0  654.0  801.0  222.0  26649.0  0.0  \n",
            "3     ...  1.0   75.0  2900.0  556.0  63.0  679.0  917.0  218.0  27639.0  1.0  \n",
            "4     ...  2.0  155.0  4604.0  868.0  76.0  969.0  855.0  320.0  11291.0  0.0  \n",
            "...   ...  ...    ...     ...    ...   ...    ...    ...    ...      ...  ...  \n",
            "5945  ...  0.0   53.0  2957.0  655.0  80.0  721.0  691.0  306.0  20971.0  0.0  \n",
            "5946  ...  1.0  131.0  4380.0  668.0  59.0  676.0  912.0  250.0  10831.0  0.0  \n",
            "5947  ...  0.0   29.0  2302.0  333.0  80.0  408.0  425.0  264.0  28403.0  0.0  \n",
            "5948  ...  2.0  167.0  4763.0  806.0  77.0  835.0  984.0  265.0  13845.0  0.0  \n",
            "5949  ...  0.0  115.0  3146.0  777.0  52.0  950.0  770.0  216.0  15396.0  0.0  \n",
            "\n",
            "[5950 rows x 766 columns]\n"
          ]
        }
      ]
    },
    {
      "cell_type": "code",
      "source": [
        "input = data.iloc[:,:-1]\n",
        "output = data.iloc[:,-1:]"
      ],
      "metadata": {
        "id": "v3FM4dcgPrvF"
      },
      "execution_count": null,
      "outputs": []
    },
    {
      "cell_type": "code",
      "source": [
        "#Instantiate an empty model\n",
        "model=Sequential()\n",
        "\n",
        "# 1st Convolutional Layer\n",
        "\n",
        "# 1st Fully Connected Layer has 4096 neurons\n",
        "model.add(Flatten())\n",
        "model.add (Dense(4096,activation ='relu'))\n",
        "# Add Dropout to prevent overfitting\n",
        "model.add(Dropout (0.4))\n",
        "# 2nd Fully Connected Layer\n",
        "model.add (Dense(2050,activation ='relu'))\n",
        "# Add Dropout\n",
        "model.add(Dropout (0.4))\n",
        "\n",
        "model.add (Dense(1025,activation ='relu'))\n",
        "\n",
        "model.add (Dense(500,activation ='relu'))\n",
        "\n",
        "model.add (Dense(250,activation ='relu'))\n",
        "\n",
        "model.add (Dense(100,activation ='relu'))\n",
        "\n",
        "model.add (Dense(50,activation ='relu'))\n",
        "\n",
        "model.add (Dense(16,activation ='relu'))\n",
        "\n",
        "model.add (Dense(8,activation ='relu'))\n",
        "\n",
        "model.add (Dense(4,activation ='relu'))\n",
        "\n",
        "\n",
        "# Output Layer\n",
        "model.add (Dense(1,activation ='sigmoid'))\n"
      ],
      "metadata": {
        "id": "3slTfm3AP9Mp"
      },
      "execution_count": null,
      "outputs": []
    },
    {
      "cell_type": "code",
      "source": [
        "import numpy as np\n",
        "import pandas as pd\n",
        "import csv\n",
        "import cv2.cv2 as cv2\n",
        "from matplotlib import pyplot as plt\n",
        "import keras\n",
        "from keras.models import Sequential\n",
        "from keras.layers import Dense, Activation, Dropout, Flatten, Conv2D, MaxPooling2D\n",
        "import tensorflow\n",
        "from tensorflow import keras"
      ],
      "metadata": {
        "id": "dKV_-3QBQMdm"
      },
      "execution_count": null,
      "outputs": []
    },
    {
      "cell_type": "code",
      "source": [
        "opt = keras.optimizers.Adam(learning_rate=0.0001)"
      ],
      "metadata": {
        "id": "wfOnXqHwQBve"
      },
      "execution_count": null,
      "outputs": []
    },
    {
      "cell_type": "code",
      "source": [
        "model.compile(optimizer= opt, loss='BinaryCrossentropy',metrics=['accuracy'])"
      ],
      "metadata": {
        "id": "kQSblKT7QGAu"
      },
      "execution_count": null,
      "outputs": []
    },
    {
      "cell_type": "code",
      "source": [
        "model.fit(input, output,\n",
        "                epochs=20 ,\n",
        "                batch_size=64\n",
        "                )"
      ],
      "metadata": {
        "colab": {
          "base_uri": "https://localhost:8080/"
        },
        "id": "dK-kYvfbQOUg",
        "outputId": "8d3eeb1f-8000-4751-f647-14a25a128cdb"
      },
      "execution_count": null,
      "outputs": [
        {
          "output_type": "stream",
          "name": "stdout",
          "text": [
            "Epoch 1/20\n",
            "93/93 [==============================] - 17s 171ms/step - loss: 2.1870 - accuracy: 0.5958\n",
            "Epoch 2/20\n",
            "93/93 [==============================] - 15s 163ms/step - loss: 0.6622 - accuracy: 0.7287\n",
            "Epoch 3/20\n",
            "93/93 [==============================] - 15s 162ms/step - loss: 0.4863 - accuracy: 0.7894\n",
            "Epoch 4/20\n",
            "93/93 [==============================] - 16s 174ms/step - loss: 0.3894 - accuracy: 0.8351\n",
            "Epoch 5/20\n",
            "93/93 [==============================] - 16s 172ms/step - loss: 0.3127 - accuracy: 0.8672\n",
            "Epoch 6/20\n",
            "93/93 [==============================] - 17s 179ms/step - loss: 0.2423 - accuracy: 0.8961\n",
            "Epoch 7/20\n",
            "93/93 [==============================] - 15s 163ms/step - loss: 0.1985 - accuracy: 0.9165\n",
            "Epoch 8/20\n",
            "93/93 [==============================] - 15s 163ms/step - loss: 0.1585 - accuracy: 0.9348\n",
            "Epoch 9/20\n",
            "93/93 [==============================] - 15s 162ms/step - loss: 0.1419 - accuracy: 0.9403\n",
            "Epoch 10/20\n",
            "93/93 [==============================] - 15s 162ms/step - loss: 0.1239 - accuracy: 0.9534\n",
            "Epoch 11/20\n",
            "93/93 [==============================] - 15s 162ms/step - loss: 0.0978 - accuracy: 0.9637\n",
            "Epoch 12/20\n",
            "93/93 [==============================] - 15s 163ms/step - loss: 0.0717 - accuracy: 0.9709\n",
            "Epoch 13/20\n",
            "93/93 [==============================] - 16s 173ms/step - loss: 0.0795 - accuracy: 0.9697\n",
            "Epoch 14/20\n",
            "93/93 [==============================] - 15s 163ms/step - loss: 0.0554 - accuracy: 0.9788\n",
            "Epoch 15/20\n",
            "93/93 [==============================] - 15s 162ms/step - loss: 0.0557 - accuracy: 0.9795\n",
            "Epoch 16/20\n",
            "93/93 [==============================] - 18s 196ms/step - loss: 0.0456 - accuracy: 0.9820\n",
            "Epoch 17/20\n",
            "93/93 [==============================] - 22s 233ms/step - loss: 0.0398 - accuracy: 0.9866\n",
            "Epoch 18/20\n",
            "93/93 [==============================] - 15s 162ms/step - loss: 0.0285 - accuracy: 0.9882\n",
            "Epoch 19/20\n",
            "93/93 [==============================] - 15s 162ms/step - loss: 0.0324 - accuracy: 0.9872\n",
            "Epoch 20/20\n",
            "93/93 [==============================] - 15s 162ms/step - loss: 0.0322 - accuracy: 0.9877\n"
          ]
        },
        {
          "output_type": "execute_result",
          "data": {
            "text/plain": [
              "<keras.callbacks.History at 0x7fe4f0caed50>"
            ]
          },
          "metadata": {},
          "execution_count": 18
        }
      ]
    },
    {
      "cell_type": "code",
      "source": [
        "print(model.evaluate(input,output))"
      ],
      "metadata": {
        "colab": {
          "base_uri": "https://localhost:8080/"
        },
        "id": "g3sdOJ1My_rf",
        "outputId": "83ada84e-abdb-4f07-a6d7-d5015ed5831a"
      },
      "execution_count": null,
      "outputs": [
        {
          "output_type": "stream",
          "name": "stdout",
          "text": [
            "186/186 [==============================] - 8s 44ms/step - loss: 0.0051 - accuracy: 0.9987\n",
            "[0.005109198857098818, 0.9986554384231567]\n"
          ]
        }
      ]
    },
    {
      "cell_type": "code",
      "source": [
        "model.save(r'Model_data1.h5')"
      ],
      "metadata": {
        "id": "4Ni5f_3MT7bC"
      },
      "execution_count": null,
      "outputs": []
    }
  ],
  "metadata": {
    "colab": {
      "name": "Copy of Project.ipynb",
      "provenance": []
    },
    "kernelspec": {
      "display_name": "Python 3",
      "name": "python3"
    },
    "language_info": {
      "name": "python"
    }
  },
  "nbformat": 4,
  "nbformat_minor": 0
}